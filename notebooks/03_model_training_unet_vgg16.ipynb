{
 "cells": [
  {
   "cell_type": "markdown",
   "id": "f8245d2a",
   "metadata": {},
   "source": [
    "# Notebook 3 - Entraînement Unet + VGG16\n",
    "- notebooks/03_model_training_unet_vgg16.ipynb\n",
    "# 1- Importation librairies"
   ]
  },
  {
   "cell_type": "code",
   "execution_count": 1,
   "id": "271a2127",
   "metadata": {},
   "outputs": [
    {
     "data": {
      "text/plain": [
       "False"
      ]
     },
     "execution_count": 1,
     "metadata": {},
     "output_type": "execute_result"
    }
   ],
   "source": [
    "import os\n",
    "import sys\n",
    "import numpy as np\n",
    "import matplotlib.pyplot as plt\n",
    "from pathlib import Path\n",
    "import joblib\n",
    "from dotenv import load_dotenv\n",
    "load_dotenv()"
   ]
  },
  {
   "cell_type": "markdown",
   "id": "1157348d",
   "metadata": {},
   "source": [
    "## 1.1 - Chemin racine du projet pour les imports relatifs"
   ]
  },
  {
   "cell_type": "code",
   "execution_count": 2,
   "id": "cf416fe8",
   "metadata": {},
   "outputs": [],
   "source": [
    "# Remonter à la racine du projet\n",
    "project_root = Path(\"..\").resolve()\n",
    "\n",
    "# Ajouter src/ au PYTHONPATH\n",
    "src_path = project_root / \"src\"\n",
    "sys.path.append(str(src_path))\n",
    "\n",
    "# Chemins utiles\n",
    "data_dir      = project_root / \"data\"\n",
    "processed_dir = data_dir / \"processed\"\n",
    "models_dir    = project_root / \"models\"\n",
    "outputs_dir   = project_root / \"outputs\""
   ]
  },
  {
   "cell_type": "code",
   "execution_count": 3,
   "id": "424fe97a",
   "metadata": {},
   "outputs": [
    {
     "name": "stdout",
     "output_type": "stream",
     "text": [
      "WARNING:tensorflow:From c:\\Users\\motar\\Desktop\\1-openclassrooms\\AI_Engineer\\1-projets\\P08\\2-python\\venv_p8\\lib\\site-packages\\keras\\src\\losses.py:2976: The name tf.losses.sparse_softmax_cross_entropy is deprecated. Please use tf.compat.v1.losses.sparse_softmax_cross_entropy instead.\n",
      "\n"
     ]
    }
   ],
   "source": [
    "# from model_training.train_unet_vgg16 import train_unet_vgg16\n",
    "from utils.utils import plot_history\n",
    "from utils.monitoring import monitor_resources\n",
    "from model_training.train_unet_vgg16 import train_unet_vgg16"
   ]
  },
  {
   "cell_type": "markdown",
   "id": "5ea65426",
   "metadata": {},
   "source": [
    "# 2 - Chargement des données"
   ]
  },
  {
   "cell_type": "code",
   "execution_count": 4,
   "id": "49d653b4",
   "metadata": {},
   "outputs": [],
   "source": [
    "train_path = processed_dir / \"train.npz\"\n",
    "val_path   = processed_dir / \"val.npz\"\n",
    "\n",
    "train = np.load(train_path)\n",
    "val   = np.load(val_path)\n",
    "\n",
    "X_train, y_train = train[\"X\"], train[\"Y\"]\n",
    "X_val, y_val     = val[\"X\"], val[\"Y\"]"
   ]
  },
  {
   "cell_type": "markdown",
   "id": "495075e3",
   "metadata": {},
   "source": [
    "## 2.1 - Paramètres de test rapide (dev agile ou prod, suivant contexte)\n",
    "### 2.1.1 - Taille réduite pour test rapide"
   ]
  },
  {
   "cell_type": "code",
   "execution_count": 5,
   "id": "d3991c0f",
   "metadata": {},
   "outputs": [],
   "source": [
    "# params_test = {\n",
    "#     'output_dir': str(models_dir),\n",
    "#     'model_name': \"unet_vgg16_test\",\n",
    "#     'force_retrain': False,\n",
    "#     'epochs': 10,\n",
    "#     'batch_size': 4,\n",
    "#     'loss_function': \"sparse_categorical_crossentropy\",\n",
    "#     'test_mode': False\n",
    "# }"
   ]
  },
  {
   "cell_type": "markdown",
   "id": "355a4b96",
   "metadata": {},
   "source": [
    "### 2.1.2 - Full training pour mise en production"
   ]
  },
  {
   "cell_type": "code",
   "execution_count": 6,
   "id": "cbac7713",
   "metadata": {},
   "outputs": [],
   "source": [
    "# params_prod = {\n",
    "#     'output_dir': str(models_dir),\n",
    "#     'model_name': \"unet_vgg16\",\n",
    "#     'force_retrain': False,\n",
    "#     'epochs': 40,\n",
    "#     'batch_size': 8,\n",
    "#     'loss_function': \"sparse_categorical_crossentropy\"\n",
    "# }"
   ]
  },
  {
   "cell_type": "code",
   "execution_count": 7,
   "id": "a40f4cde",
   "metadata": {},
   "outputs": [],
   "source": [
    "# Paramètres à tester (grid)\n",
    "params_grid = [\n",
    "    {'output_dir': str(models_dir), 'model_name': \"unet_vgg16_a\", 'force_retrain': False, 'epochs': 30, 'batch_size': 4, 'loss_function': \"sparse_categorical_crossentropy\", 'use_early_stopping': True, 'turbo': True},\n",
    "    {'output_dir': str(models_dir), 'model_name': \"unet_vgg16_b\", 'force_retrain': False, 'epochs': 40, 'batch_size': 8, 'loss_function': \"sparse_categorical_crossentropy\", 'use_early_stopping': True, 'turbo': True},\n",
    "    {'output_dir': str(models_dir), 'model_name': \"unet_vgg16_c\", 'force_retrain': False, 'epochs': 50, 'batch_size': 8, 'loss_function': \"sparse_categorical_crossentropy\", 'use_early_stopping': True, 'turbo': True},\n",
    "    {'output_dir': str(models_dir), 'model_name': \"unet_vgg16_d\", 'force_retrain': False, 'epochs': 50, 'batch_size': 16, 'loss_function': \"sparse_categorical_crossentropy\", 'use_early_stopping': True, 'turbo': True}\n",
    "]"
   ]
  },
  {
   "cell_type": "markdown",
   "id": "4adde313",
   "metadata": {},
   "source": [
    "# 3 - Entraînement du modèle avec sélection du meilleur run"
   ]
  },
  {
   "cell_type": "code",
   "execution_count": 8,
   "id": "706b3109",
   "metadata": {},
   "outputs": [],
   "source": [
    "# Exécution des runs\n",
    "results = []"
   ]
  },
  {
   "cell_type": "code",
   "execution_count": null,
   "id": "f32d06e7",
   "metadata": {},
   "outputs": [
    {
     "name": "stdout",
     "output_type": "stream",
     "text": [
      "\n",
      "🔁 Entraînement 1/4 : {'output_dir': 'C:\\\\Users\\\\motar\\\\Desktop\\\\1-openclassrooms\\\\AI_Engineer\\\\1-projets\\\\P08\\\\2-python\\\\models', 'model_name': 'unet_vgg16_a', 'force_retrain': False, 'epochs': 30, 'batch_size': 4, 'loss_function': 'sparse_categorical_crossentropy', 'use_early_stopping': True, 'turbo': True}\n",
      "🔄 Lancement du serveur MLflow local...\n",
      "✅ Serveur MLflow démarré sur http://127.0.0.1:5000\n",
      "[LOG] ➤ train_unet_vgg16 appelé\n",
      "⚡️ Mode TURBO activé : JIT, Mixed Precision, logs réduits\n",
      "WARNING:tensorflow:Mixed precision compatibility check (mixed_float16): WARNING\n",
      "The dtype policy mixed_float16 may run slowly because this machine does not have a GPU. Only Nvidia GPUs with compute capability of at least 7.0 run quickly with mixed_float16.\n",
      "If you will use compatible GPU(s) not attached to this host, e.g. by running a multi-worker model, you can ignore this warning. This message will only be logged once\n",
      "[INFO] ⟳ Chargement du modèle existant : C:\\Users\\motar\\Desktop\\1-openclassrooms\\AI_Engineer\\1-projets\\P08\\2-python\\models\\unet_vgg16_a_TURBO.h5\n",
      "WARNING:tensorflow:From c:\\Users\\motar\\Desktop\\1-openclassrooms\\AI_Engineer\\1-projets\\P08\\2-python\\venv_p8\\lib\\site-packages\\keras\\src\\backend.py:1398: The name tf.executing_eagerly_outside_functions is deprecated. Please use tf.compat.v1.executing_eagerly_outside_functions instead.\n",
      "\n",
      "WARNING:tensorflow:From c:\\Users\\motar\\Desktop\\1-openclassrooms\\AI_Engineer\\1-projets\\P08\\2-python\\venv_p8\\lib\\site-packages\\keras\\src\\layers\\pooling\\max_pooling2d.py:161: The name tf.nn.max_pool is deprecated. Please use tf.nn.max_pool2d instead.\n",
      "\n",
      "\n",
      "🔁 Entraînement 2/4 : {'output_dir': 'C:\\\\Users\\\\motar\\\\Desktop\\\\1-openclassrooms\\\\AI_Engineer\\\\1-projets\\\\P08\\\\2-python\\\\models', 'model_name': 'unet_vgg16_b', 'force_retrain': False, 'epochs': 40, 'batch_size': 8, 'loss_function': 'sparse_categorical_crossentropy', 'use_early_stopping': True, 'turbo': True}\n",
      "✅ Serveur MLflow déjà actif sur http://127.0.0.1:5000\n",
      "[LOG] ➤ train_unet_vgg16 appelé\n",
      "⚡️ Mode TURBO activé : JIT, Mixed Precision, logs réduits\n",
      "[INFO] Entraînement d'un modèle UNet + VGG16 (TURBO)...\n",
      "WARNING:tensorflow:From c:\\Users\\motar\\Desktop\\1-openclassrooms\\AI_Engineer\\1-projets\\P08\\2-python\\venv_p8\\lib\\site-packages\\keras\\src\\optimizers\\__init__.py:309: The name tf.train.Optimizer is deprecated. Please use tf.compat.v1.train.Optimizer instead.\n",
      "\n",
      "WARNING:tensorflow:From c:\\Users\\motar\\Desktop\\1-openclassrooms\\AI_Engineer\\1-projets\\P08\\2-python\\venv_p8\\lib\\site-packages\\keras\\src\\utils\\tf_utils.py:492: The name tf.ragged.RaggedTensorValue is deprecated. Please use tf.compat.v1.ragged.RaggedTensorValue instead.\n",
      "\n",
      "WARNING:tensorflow:From c:\\Users\\motar\\Desktop\\1-openclassrooms\\AI_Engineer\\1-projets\\P08\\2-python\\venv_p8\\lib\\site-packages\\keras\\src\\engine\\base_layer_utils.py:384: The name tf.executing_eagerly_outside_functions is deprecated. Please use tf.compat.v1.executing_eagerly_outside_functions instead.\n",
      "\n"
     ]
    }
   ],
   "source": [
    "for i, params in enumerate(params_grid):\n",
    "    print(f\"\\n🔁 Entraînement {i+1}/{len(params_grid)} : {params}\")\n",
    "    model, history = train_unet_vgg16(\n",
    "        X_train=X_train,\n",
    "        y_train=y_train,\n",
    "        X_val=X_val,\n",
    "        y_val=y_val,\n",
    "        **params\n",
    "    )\n",
    "    val_acc = max(history.history['val_accuracy']) if not isinstance(history, dict) else 0\n",
    "    results.append({\n",
    "        'run': i+1,\n",
    "        'params': params,\n",
    "        'val_accuracy': val_acc,\n",
    "        'model': model,\n",
    "        'history': history\n",
    "    })"
   ]
  },
  {
   "cell_type": "markdown",
   "id": "c6552355",
   "metadata": {},
   "source": [
    "## 3.1 - Sélection du meilleur run"
   ]
  },
  {
   "cell_type": "code",
   "execution_count": null,
   "id": "eab0ac0a",
   "metadata": {},
   "outputs": [],
   "source": [
    "best_run = sorted(results, key=lambda x: x['val_accuracy'], reverse=True)[0]\n",
    "best_model = best_run['model']\n",
    "best_history = best_run['history']\n",
    "best_params = best_run['params']"
   ]
  },
  {
   "cell_type": "code",
   "execution_count": null,
   "id": "79c81ac4",
   "metadata": {},
   "outputs": [],
   "source": [
    "print(f\"\\n✅ Meilleur modèle : {best_params['model_name']} avec val_accuracy = {best_run['val_accuracy']:.4f}\")"
   ]
  },
  {
   "cell_type": "code",
   "execution_count": null,
   "id": "bda5005f",
   "metadata": {},
   "outputs": [],
   "source": [
    "# best_model_path = Path(models_dir) / \"best_unet_vgg16.h5\"\n",
    "# best_history_path = Path(models_dir) / \"best_unet_vgg16_history.pkl\"\n",
    "best_model_path = models_dir / \"best_unet_vgg16.h5\"\n",
    "best_history_path = models_dir / \"best_unet_vgg16_history.pkl\""
   ]
  },
  {
   "cell_type": "code",
   "execution_count": null,
   "id": "c3ccf8e7",
   "metadata": {},
   "outputs": [],
   "source": [
    "best_model.save(best_model_path)\n",
    "joblib.dump(best_history.history, best_history_path)"
   ]
  },
  {
   "cell_type": "code",
   "execution_count": null,
   "id": "cbcc0918",
   "metadata": {},
   "outputs": [],
   "source": [
    "# # params = params_test\n",
    "# params = params_prod\n",
    "\n",
    "# model, history = train_unet_vgg16(\n",
    "#     X_train=X_train,\n",
    "#     y_train=y_train,\n",
    "#     X_val=X_val,\n",
    "#     y_val=y_val,\n",
    "#     **params\n",
    "# )"
   ]
  },
  {
   "cell_type": "markdown",
   "id": "3952746d",
   "metadata": {},
   "source": [
    "# 4 - Résumé et courbes du modèle"
   ]
  },
  {
   "cell_type": "code",
   "execution_count": null,
   "id": "0771d84a",
   "metadata": {},
   "outputs": [],
   "source": [
    "if isinstance(best_history, dict) and best_history.get(\"test_mode\"):\n",
    "    print(\"[INFO] ✅ Test rapide terminé. Pas d'entraînement complet.\")\n",
    "else:\n",
    "    print(\"[INFO] 📊 Résumé du modèle champion et affichage des courbes\")\n",
    "    best_model.summary()\n",
    "    plot_path = outputs_dir / f\"plot_{best_params['model_name']}_BEST.png\"\n",
    "    plot_history(best_history, plot_path)"
   ]
  },
  {
   "cell_type": "code",
   "execution_count": null,
   "id": "7b44245e",
   "metadata": {},
   "outputs": [],
   "source": [
    "# if isinstance(history, dict) and history.get(\"test_mode\"):\n",
    "#     print(\"[INFO] ✅ Test rapide terminé. Pas d'entraînement complet.\")\n",
    "# else:\n",
    "#     print(\"[INFO] 📊 Affichage du résumé du modèle et des courbes\")\n",
    "#     model.summary()\n",
    "\n",
    "#     # Construction du chemin d'enregistrement depuis notebooks/\n",
    "#     plot_path = Path(\"..\") / \"outputs\" / f\"plot_{params['model_name']}.png\"\n",
    "#     plot_history(history, plot_path)"
   ]
  },
  {
   "cell_type": "markdown",
   "id": "c4deae8c",
   "metadata": {},
   "source": [
    "### === Exemple de prédiction (facultatif pour test rapide) ===\n",
    "#### y_pred = model.predict(X_val[:1])\n",
    "#### plt.imshow(np.argmax(y_pred[0], axis=-1))\n",
    "#### plt.title(\"Exemple de prédiction\")\n",
    "#### plt.show()"
   ]
  }
 ],
 "metadata": {
  "kernelspec": {
   "display_name": "venv_p8",
   "language": "python",
   "name": "python3"
  },
  "language_info": {
   "codemirror_mode": {
    "name": "ipython",
    "version": 3
   },
   "file_extension": ".py",
   "mimetype": "text/x-python",
   "name": "python",
   "nbconvert_exporter": "python",
   "pygments_lexer": "ipython3",
   "version": "3.10.11"
  }
 },
 "nbformat": 4,
 "nbformat_minor": 5
}
