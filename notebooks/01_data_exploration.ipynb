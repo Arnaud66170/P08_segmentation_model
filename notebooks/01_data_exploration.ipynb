{
 "cells": [
  {
   "cell_type": "markdown",
   "id": "0e203bc1",
   "metadata": {},
   "source": [
    "# 1 - Importation\n",
    "## 1.1 - Librairies"
   ]
  },
  {
   "cell_type": "code",
   "execution_count": 7,
   "id": "4cf395b1",
   "metadata": {},
   "outputs": [],
   "source": [
    "# 🔧 Librairies de base\n",
    "import os\n",
    "import numpy as np\n",
    "import pandas as pd\n",
    "import matplotlib.pyplot as plt\n",
    "from tqdm import tqdm\n",
    "import random\n",
    "import sys\n",
    "from pathlib import Path\n",
    "\n",
    "\n",
    "# 🖼️ Traitement d'images\n",
    "import cv2\n",
    "from PIL import Image\n",
    "import albumentations as A\n",
    "\n",
    "# 📚 Deep Learning\n",
    "import tensorflow as tf\n",
    "from tensorflow import keras\n",
    "from keras.utils import img_to_array, load_img\n",
    "from keras.models import Model\n",
    "from keras.layers import Input\n",
    "\n",
    "# 📊 Évaluation / Modèles\n",
    "from sklearn.model_selection import train_test_split\n",
    "from sklearn.metrics import confusion_matrix, classification_report\n",
    "\n",
    "# 🧪 Tests éventuels\n",
    "import pytest\n",
    "\n",
    "# 🌱 Environnement\n",
    "from dotenv import load_dotenv\n",
    "load_dotenv()\n",
    "\n",
    "# (optionnel, selon tracking)\n",
    "import mlflow\n",
    "\n",
    "\n",
    "ROOT = Path.cwd().parent if 'notebooks' in str(Path.cwd()) else Path.cwd()\n",
    "sys.path.append(str(ROOT))\n",
    "\n",
    "from src.utils.viz_utils import show_random_image_and_mask\n",
    "from src.data_preprocessing.preprocessing import resize_image, resize_mask, normalize_image"
   ]
  },
  {
   "cell_type": "markdown",
   "id": "3d0fb970",
   "metadata": {},
   "source": [
    "### 1.1.1 - Visualisation de l'arborescence du projet"
   ]
  },
  {
   "cell_type": "code",
   "execution_count": 8,
   "id": "2c697916",
   "metadata": {},
   "outputs": [],
   "source": [
    "def display_tree(start_path='.', max_level=2, prefix=''):\n",
    "    \"\"\"Affiche l'arborescence du dossier de travail jusqu'à n niveaux\"\"\"\n",
    "    start_path = Path(start_path)\n",
    "    if max_level < 0:\n",
    "        return\n",
    "    for path in sorted(start_path.iterdir()):\n",
    "        if path.name.startswith('.'):\n",
    "            continue  # ignore fichiers cachés\n",
    "        print(f\"{prefix}├── {path.name}\")\n",
    "        if path.is_dir():\n",
    "            display_tree(path, max_level - 1, prefix + \"│   \")"
   ]
  },
  {
   "cell_type": "code",
   "execution_count": 9,
   "id": "9868f2c9",
   "metadata": {},
   "outputs": [
    {
     "name": "stdout",
     "output_type": "stream",
     "text": [
      "├── api\n",
      "├── app\n",
      "├── data\n",
      "│   ├── P8_Cityscapes_gtFine_trainvaltest\n",
      "│   ├── P8_Cityscapes_leftImg8bit_trainvaltest\n",
      "├── Makerfile\n",
      "├── models\n",
      "├── notebooks\n",
      "│   ├── 01_data_exploration.ipynb\n",
      "├── outputs\n",
      "├── pyproject.toml\n",
      "├── requirements.py\n",
      "├── requirements.txt\n",
      "├── scripts\n",
      "├── src\n",
      "│   ├── __init__.py\n",
      "│   ├── __pycache__\n",
      "│   ├── data_preprocessing\n",
      "│   ├── utils\n",
      "├── tests\n",
      "├── venv_p8\n",
      "│   ├── Include\n",
      "│   ├── Lib\n",
      "│   ├── pyvenv.cfg\n",
      "│   ├── Scripts\n",
      "│   ├── share\n"
     ]
    }
   ],
   "source": [
    "display_tree(\"..\", max_level=1)"
   ]
  },
  {
   "cell_type": "markdown",
   "id": "bc35955d",
   "metadata": {},
   "source": [
    "## 1.2 - Chemins du projet"
   ]
  },
  {
   "cell_type": "code",
   "execution_count": 10,
   "id": "51d93467",
   "metadata": {},
   "outputs": [],
   "source": [
    "# Dossiers principaux\n",
    "BASE_DIR = Path(\"data\")\n",
    "\n",
    "# Images (RGB)\n",
    "IMG_DIR = BASE_DIR / \"P8_Cityscapes_leftImg8bit_trainvaltest\" / \"leftImg8bit\"\n",
    "\n",
    "# Masks (labelIds)\n",
    "MASK_DIR = BASE_DIR / \"P8_Cityscapes_gtFine_trainvaltest\" / \"gtFine\""
   ]
  },
  {
   "cell_type": "code",
   "execution_count": 11,
   "id": "398a9a10",
   "metadata": {},
   "outputs": [
    {
     "name": "stdout",
     "output_type": "stream",
     "text": [
      "Aucune image ou mask trouvé.\n"
     ]
    }
   ],
   "source": [
    "show_random_image_and_mask(IMG_DIR, MASK_DIR, split=\"train\", city=\"hamburg\")"
   ]
  },
  {
   "cell_type": "code",
   "execution_count": 12,
   "id": "43224d9d",
   "metadata": {},
   "outputs": [
    {
     "ename": "NameError",
     "evalue": "name 'img' is not defined",
     "output_type": "error",
     "traceback": [
      "\u001b[1;31m---------------------------------------------------------------------------\u001b[0m",
      "\u001b[1;31mNameError\u001b[0m                                 Traceback (most recent call last)",
      "Cell \u001b[1;32mIn[12], line 1\u001b[0m\n\u001b[1;32m----> 1\u001b[0m img_resized \u001b[38;5;241m=\u001b[39m resize_image(\u001b[43mimg\u001b[49m, (\u001b[38;5;241m256\u001b[39m, \u001b[38;5;241m256\u001b[39m))\n\u001b[0;32m      2\u001b[0m img_norm \u001b[38;5;241m=\u001b[39m normalize_image(img_resized)\n",
      "\u001b[1;31mNameError\u001b[0m: name 'img' is not defined"
     ]
    }
   ],
   "source": [
    "img_resized = resize_image(img, (256, 256))\n",
    "img_norm = normalize_image(img_resized)"
   ]
  },
  {
   "cell_type": "code",
   "execution_count": null,
   "id": "2d9ffcda",
   "metadata": {},
   "outputs": [],
   "source": []
  }
 ],
 "metadata": {
  "kernelspec": {
   "display_name": "venv_p8",
   "language": "python",
   "name": "python3"
  },
  "language_info": {
   "codemirror_mode": {
    "name": "ipython",
    "version": 3
   },
   "file_extension": ".py",
   "mimetype": "text/x-python",
   "name": "python",
   "nbconvert_exporter": "python",
   "pygments_lexer": "ipython3",
   "version": "3.10.11"
  }
 },
 "nbformat": 4,
 "nbformat_minor": 5
}
