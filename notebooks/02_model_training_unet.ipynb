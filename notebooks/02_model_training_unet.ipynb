{
 "cells": [
  {
   "cell_type": "markdown",
   "id": "05c986e5",
   "metadata": {},
   "source": [
    "# Notebook : 02_model_training_unet.ipynb\n",
    "- Objectif : entraîner un premier modèle U-Net sur Cityscapes (8 classes) avec pipeline MLOps\n",
    "\n",
    "# 1 - Imports & préparation"
   ]
  },
  {
   "cell_type": "code",
   "execution_count": 1,
   "id": "b4c84a84",
   "metadata": {},
   "outputs": [
    {
     "name": "stdout",
     "output_type": "stream",
     "text": [
      "WARNING:tensorflow:From c:\\Users\\motar\\Desktop\\1-openclassrooms\\AI_Engineer\\1-projets\\P08\\2-python\\venv_p8\\lib\\site-packages\\keras\\src\\losses.py:2976: The name tf.losses.sparse_softmax_cross_entropy is deprecated. Please use tf.compat.v1.losses.sparse_softmax_cross_entropy instead.\n",
      "\n"
     ]
    },
    {
     "data": {
      "text/plain": [
       "False"
      ]
     },
     "execution_count": 1,
     "metadata": {},
     "output_type": "execute_result"
    }
   ],
   "source": [
    "import os\n",
    "import sys\n",
    "import numpy as np\n",
    "import matplotlib.pyplot as plt\n",
    "from pathlib import Path\n",
    "import tensorflow as tf\n",
    "from tensorflow import keras\n",
    "from keras import layers\n",
    "from dotenv import load_dotenv\n",
    "load_dotenv()"
   ]
  },
  {
   "cell_type": "code",
   "execution_count": 2,
   "id": "62833d17",
   "metadata": {},
   "outputs": [],
   "source": [
    "# Remonter à la racine du projet\n",
    "project_root = Path(\"..\").resolve()\n",
    "\n",
    "# Ajouter src/ au PYTHONPATH\n",
    "src_path = project_root / \"src\"\n",
    "if str(src_path) not in sys.path:\n",
    "    sys.path.append(str(src_path))\n",
    "\n",
    "# Chemins utiles\n",
    "data_dir      = project_root / \"data\"\n",
    "processed_dir = data_dir / \"processed\"\n",
    "models_dir    = project_root / \"models\"\n",
    "\n",
    "train_path = processed_dir / \"train.npz\"\n",
    "val_path   = processed_dir / \"val.npz\""
   ]
  },
  {
   "cell_type": "markdown",
   "id": "eeffada4",
   "metadata": {},
   "source": [
    "## 1.1 - Chargement de la fonction d'entraînement MLOps-compliant"
   ]
  },
  {
   "cell_type": "code",
   "execution_count": 3,
   "id": "4baca16d",
   "metadata": {},
   "outputs": [],
   "source": [
    "# from src.model_training.train_unet import train_unet_model\n",
    "from model_training.train_unet import train_unet_model"
   ]
  },
  {
   "cell_type": "markdown",
   "id": "2094c226",
   "metadata": {},
   "source": [
    "## 1.2 - Chargement des données .npz"
   ]
  },
  {
   "cell_type": "code",
   "execution_count": 4,
   "id": "08079a51",
   "metadata": {},
   "outputs": [],
   "source": [
    "train = np.load(train_path)\n",
    "val   = np.load(val_path)"
   ]
  },
  {
   "cell_type": "code",
   "execution_count": 5,
   "id": "006e8b5c",
   "metadata": {},
   "outputs": [],
   "source": [
    "X_train, Y_train = train[\"X\"], train[\"Y\"]\n",
    "X_val, Y_val     = val[\"X\"], val[\"Y\"]"
   ]
  },
  {
   "cell_type": "markdown",
   "id": "8b750c67",
   "metadata": {},
   "source": [
    "## 1.3 - Paramètres de test rapide (dev agile ou prod, suivant contexte)\n",
    "### 1.3.1 - Taille réduite pour test rapide - 71 min 50 sec"
   ]
  },
  {
   "cell_type": "code",
   "execution_count": 6,
   "id": "890c4c94",
   "metadata": {},
   "outputs": [],
   "source": [
    "params_test = {\n",
    "    'img_size': (128, 128),\n",
    "    'epochs': 10,\n",
    "    'batch_size': 4,\n",
    "    'use_early_stopping': True,\n",
    "    'force_retrain': False\n",
    "}"
   ]
  },
  {
   "cell_type": "markdown",
   "id": "723e46ab",
   "metadata": {},
   "source": [
    "### 1.3.2 - Full training pour mise en production"
   ]
  },
  {
   "cell_type": "code",
   "execution_count": 8,
   "id": "87fe667a",
   "metadata": {},
   "outputs": [],
   "source": [
    "params_grid = [\n",
    "    {\n",
    "        'img_size': (256, 256),\n",
    "        'epochs': 30,\n",
    "        'batch_size': 4,\n",
    "        'use_early_stopping': True,\n",
    "        'force_retrain': False\n",
    "    },\n",
    "    {\n",
    "        'img_size': (256, 256),\n",
    "        'epochs': 40,\n",
    "        'batch_size': 8,\n",
    "        'use_early_stopping': True,\n",
    "        'force_retrain': False\n",
    "    },\n",
    "    {\n",
    "        'img_size': (256, 256),           # Taille standard Cityscapes réduite\n",
    "        'epochs': 50,                     # Entraînement complet\n",
    "        'batch_size': 8,                  # Bon compromis CPU/RAM\n",
    "        'use_early_stopping': True,      # Pour éviter l’overfitting\n",
    "        'force_retrain': False \n",
    "    },\n",
    "    {\n",
    "        'img_size': (256, 256),\n",
    "        'epochs': 50,\n",
    "        'batch_size': 16,\n",
    "        'use_early_stopping': True,\n",
    "        'force_retrain': False\n",
    "    }\n",
    "]"
   ]
  },
  {
   "cell_type": "markdown",
   "id": "ca463b1e",
   "metadata": {},
   "source": [
    "# 2 - Entraînement du modèle (ou chargement si déjà existant)\n",
    "- changer params_test ou params_prod, suivant le besoin"
   ]
  },
  {
   "cell_type": "code",
   "execution_count": 9,
   "id": "3a95d854",
   "metadata": {},
   "outputs": [
    {
     "name": "stdout",
     "output_type": "stream",
     "text": [
      "\n",
      "🔁 Lancement de l'entraînement 1/4 avec batch=4, epochs=30\n",
      "🔄 Lancement du serveur MLflow local...\n",
      "✅ Serveur MLflow démarré sur http://127.0.0.1:5000\n",
      "[LOG] ➤ train_unet_model appelé\n",
      "[INFO] Modèle déjà existant. Chargement...\n",
      "WARNING:tensorflow:From c:\\Users\\motar\\Desktop\\1-openclassrooms\\AI_Engineer\\1-projets\\P08\\2-python\\venv_p8\\lib\\site-packages\\keras\\src\\backend.py:1398: The name tf.executing_eagerly_outside_functions is deprecated. Please use tf.compat.v1.executing_eagerly_outside_functions instead.\n",
      "\n",
      "WARNING:tensorflow:From c:\\Users\\motar\\Desktop\\1-openclassrooms\\AI_Engineer\\1-projets\\P08\\2-python\\venv_p8\\lib\\site-packages\\keras\\src\\layers\\pooling\\max_pooling2d.py:161: The name tf.nn.max_pool is deprecated. Please use tf.nn.max_pool2d instead.\n",
      "\n",
      "\n",
      "🔁 Lancement de l'entraînement 2/4 avec batch=8, epochs=40\n",
      "✅ Serveur MLflow déjà actif sur http://127.0.0.1:5000\n",
      "[LOG] ➤ train_unet_model appelé\n",
      "[INFO] Modèle déjà existant. Chargement...\n",
      "\n",
      "🔁 Lancement de l'entraînement 3/4 avec batch=8, epochs=50\n",
      "✅ Serveur MLflow déjà actif sur http://127.0.0.1:5000\n",
      "[LOG] ➤ train_unet_model appelé\n",
      "[INFO] Modèle déjà existant. Chargement...\n",
      "\n",
      "🔁 Lancement de l'entraînement 4/4 avec batch=16, epochs=50\n",
      "✅ Serveur MLflow déjà actif sur http://127.0.0.1:5000\n",
      "[LOG] ➤ train_unet_model appelé\n",
      "[INFO] Modèle déjà existant. Chargement...\n"
     ]
    }
   ],
   "source": [
    "results = []\n",
    "\n",
    "for i, params in enumerate(params_grid):\n",
    "    print(f\"\\n🔁 Lancement de l'entraînement {i+1}/{len(params_grid)} avec batch={params['batch_size']}, epochs={params['epochs']}\")\n",
    "\n",
    "    model, history = train_unet_model(\n",
    "        X_train, Y_train,\n",
    "        X_val, Y_val,\n",
    "        **params\n",
    "    )\n",
    "\n",
    "    # 🔐 Sécurisation : dict ou objet Keras History\n",
    "    hist = history.history if hasattr(history, 'history') else history\n",
    "\n",
    "    val_acc = max(hist['val_accuracy'])\n",
    "    val_loss = min(hist['val_loss'])\n",
    "\n",
    "    results.append({\n",
    "        'run': i + 1,\n",
    "        'params': params,\n",
    "        'val_accuracy': val_acc,\n",
    "        'val_loss': val_loss,\n",
    "        'model': model,\n",
    "        'history': hist\n",
    "    })"
   ]
  },
  {
   "cell_type": "markdown",
   "id": "84d8a74d",
   "metadata": {},
   "source": [
    "## 2.1 - Sélection du meilleur run"
   ]
  },
  {
   "cell_type": "code",
   "execution_count": 11,
   "id": "0c2aa0fc",
   "metadata": {},
   "outputs": [
    {
     "name": "stdout",
     "output_type": "stream",
     "text": [
      "\n",
      "✅ Meilleur modèle : Run 1 avec val_accuracy = 1.0000\n"
     ]
    }
   ],
   "source": [
    "best_run = sorted(results, key=lambda x: x['val_accuracy'], reverse=True)[0]\n",
    "\n",
    "print(f\"\\n✅ Meilleur modèle : Run {best_run['run']} avec val_accuracy = {best_run['val_accuracy']:.4f}\")\n",
    "best_model = best_run['model']\n",
    "best_history = best_run['history']"
   ]
  },
  {
   "cell_type": "markdown",
   "id": "8f56a0c8",
   "metadata": {},
   "source": [
    "# 3 - Résumé du modèle"
   ]
  },
  {
   "cell_type": "code",
   "execution_count": 12,
   "id": "9420e9ca",
   "metadata": {},
   "outputs": [
    {
     "name": "stdout",
     "output_type": "stream",
     "text": [
      "Model: \"model\"\n"
     ]
    },
    {
     "name": "stdout",
     "output_type": "stream",
     "text": [
      "__________________________________________________________________________________________________\n",
      " Layer (type)                Output Shape                 Param #   Connected to                  \n",
      "==================================================================================================\n",
      " input_1 (InputLayer)        [(None, 256, 256, 3)]        0         []                            \n",
      "                                                                                                  \n",
      " conv2d (Conv2D)             (None, 256, 256, 32)         896       ['input_1[0][0]']             \n",
      "                                                                                                  \n",
      " conv2d_1 (Conv2D)           (None, 256, 256, 32)         9248      ['conv2d[0][0]']              \n",
      "                                                                                                  \n",
      " max_pooling2d (MaxPooling2  (None, 128, 128, 32)         0         ['conv2d_1[0][0]']            \n",
      " D)                                                                                               \n",
      "                                                                                                  \n",
      " conv2d_2 (Conv2D)           (None, 128, 128, 64)         18496     ['max_pooling2d[0][0]']       \n",
      "                                                                                                  \n",
      " conv2d_3 (Conv2D)           (None, 128, 128, 64)         36928     ['conv2d_2[0][0]']            \n",
      "                                                                                                  \n",
      " max_pooling2d_1 (MaxPoolin  (None, 64, 64, 64)           0         ['conv2d_3[0][0]']            \n",
      " g2D)                                                                                             \n",
      "                                                                                                  \n",
      " conv2d_4 (Conv2D)           (None, 64, 64, 128)          73856     ['max_pooling2d_1[0][0]']     \n",
      "                                                                                                  \n",
      " up_sampling2d (UpSampling2  (None, 128, 128, 128)        0         ['conv2d_4[0][0]']            \n",
      " D)                                                                                               \n",
      "                                                                                                  \n",
      " concatenate (Concatenate)   (None, 128, 128, 192)        0         ['up_sampling2d[0][0]',       \n",
      "                                                                     'conv2d_3[0][0]']            \n",
      "                                                                                                  \n",
      " conv2d_5 (Conv2D)           (None, 128, 128, 64)         110656    ['concatenate[0][0]']         \n",
      "                                                                                                  \n",
      " up_sampling2d_1 (UpSamplin  (None, 256, 256, 64)         0         ['conv2d_5[0][0]']            \n",
      " g2D)                                                                                             \n",
      "                                                                                                  \n",
      " concatenate_1 (Concatenate  (None, 256, 256, 96)         0         ['up_sampling2d_1[0][0]',     \n",
      " )                                                                   'conv2d_1[0][0]']            \n",
      "                                                                                                  \n",
      " conv2d_6 (Conv2D)           (None, 256, 256, 32)         27680     ['concatenate_1[0][0]']       \n",
      "                                                                                                  \n",
      " conv2d_7 (Conv2D)           (None, 256, 256, 8)          264       ['conv2d_6[0][0]']            \n",
      "                                                                                                  \n",
      "==================================================================================================\n",
      "Total params: 278024 (1.06 MB)\n",
      "Trainable params: 278024 (1.06 MB)\n",
      "Non-trainable params: 0 (0.00 Byte)\n",
      "__________________________________________________________________________________________________\n"
     ]
    }
   ],
   "source": [
    "model.summary()"
   ]
  },
  {
   "cell_type": "markdown",
   "id": "f3b58fea",
   "metadata": {},
   "source": [
    "# 4 - Évaluation graphique"
   ]
  },
  {
   "cell_type": "code",
   "execution_count": 13,
   "id": "a101e5c8",
   "metadata": {},
   "outputs": [],
   "source": [
    "def plot_history(history):\n",
    "    plt.figure(figsize=(10, 4))\n",
    "    plt.subplot(1, 2, 1)\n",
    "    plt.plot(history['loss'], label='loss')\n",
    "    plt.plot(history['val_loss'], label='val_loss')\n",
    "    plt.title(\"Loss\")\n",
    "    plt.legend()\n",
    "    \n",
    "    plt.subplot(1, 2, 2)\n",
    "    plt.plot(history['accuracy'], label='acc')\n",
    "    plt.plot(history['val_accuracy'], label='val_acc')\n",
    "    plt.title(\"Accuracy\")\n",
    "    plt.legend()\n",
    "    \n",
    "    plt.tight_layout()\n",
    "    plt.show()"
   ]
  },
  {
   "cell_type": "code",
   "execution_count": 14,
   "id": "a810171f",
   "metadata": {},
   "outputs": [
    {
     "data": {
      "image/png": "[encoded data removed]",
      "text/plain": [
       "<Figure size 1000x400 with 2 Axes>"
      ]
     },
     "metadata": {},
     "output_type": "display_data"
    }
   ],
   "source": [
    "plot_history(history)"
   ]
  }
 ],
 "metadata": {
  "kernelspec": {
   "display_name": "venv_p8",
   "language": "python",
   "name": "python3"
  },
  "language_info": {
   "codemirror_mode": {
    "name": "ipython",
    "version": 3
   },
   "file_extension": ".py",
   "mimetype": "text/x-python",
   "name": "python",
   "nbconvert_exporter": "python",
   "pygments_lexer": "ipython3",
   "version": "3.10.11"
  }
 },
 "nbformat": 4,
 "nbformat_minor": 5
}
